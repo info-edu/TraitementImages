{
 "cells": [
  {
   "cell_type": "markdown",
   "metadata": {},
   "source": [
    "# Mon premier notebook\n",
    "\n",
    "## Les cellules"
   ]
  },
  {
   "cell_type": "code",
   "execution_count": 4,
   "metadata": {},
   "outputs": [
    {
     "name": "stdout",
     "output_type": "stream",
     "text": [
      "Ceci est une cellule de code\n"
     ]
    }
   ],
   "source": [
    "print(\"Ceci est une cellule de code\")"
   ]
  },
  {
   "cell_type": "markdown",
   "metadata": {},
   "source": [
    "## Deuxième sous section nb\n",
    "\n",
    "Ceci est une cellule de texte écrite en markdown. On peut double cliquer dessus pour voir le code markdown qui y correspond et le changer. Quand on l'exécute, le code markdown se transforme en une jolie mise en forme. Ce langage nous permettra d'intégrer facilement différentes mises en forme avec nos programmes. On pourra ainsi entre-autres intégrer:\n",
    "+ des titres, sous titres... avec l'opérateur #\n",
    "+ des puces comme celles-ci\n",
    "+ des [liens comme celui-ci](https://info-edu.github.io/)\n",
    "+ des images, avec une commande similaire à celle pour les liens, à la différence qu'on mettra un ! avant.\n"
   ]
  },
  {
   "cell_type": "markdown",
   "metadata": {},
   "source": [
    "## Particularité d'un notebook\n",
    "\n",
    "Attention, dans jupyter notebook, une fois qu'une cellule de code a été exécutée, si des variables ont étées définies dans cette cellule, alors elles le sont pour la page entière. \n",
    "\n",
    "Essayez: définissez une variable x dans une cellule, exéctuez là, puis exécutez une cellule avec print(x) à l'intérieur dans une cellule au dessus de celle précédente. Normalement vous verrez que x peut maintenant être utilisé dans n'importe quelle cellule."
   ]
  },
  {
   "cell_type": "code",
   "execution_count": 3,
   "metadata": {},
   "outputs": [
    {
     "name": "stdout",
     "output_type": "stream",
     "text": [
      "test\n"
     ]
    }
   ],
   "source": [
    "print(x)"
   ]
  },
  {
   "cell_type": "code",
   "execution_count": 2,
   "metadata": {},
   "outputs": [],
   "source": [
    "x = \"test\""
   ]
  },
  {
   "cell_type": "markdown",
   "metadata": {},
   "source": [
    "## Raccourcis clavier\n",
    "\n",
    "Sur jupyter, deux raccourcis clavier sont très utiles:\n",
    "+ CMD + S pour sauvegarder votre fichier\n",
    "+ SHIFT + ENTER pour executer une cellule\n"
   ]
  },
  {
   "cell_type": "markdown",
   "metadata": {},
   "source": [
    "## Aide\n",
    "\n",
    "Lorsque vous souhaitez en savoir plus sur une fonction qui est définie dans les librairies que vous avez importé, vous pouvez le faire sans sortir de votre notebook. Testez en effet d'exécutez la cecllule suivante. Vous verrez qu'elle vous permettra d'accéder à la définition de la fontion max."
   ]
  },
  {
   "cell_type": "code",
   "execution_count": 11,
   "metadata": {},
   "outputs": [],
   "source": [
    "import numpy as np\n",
    "np.max?"
   ]
  },
  {
   "cell_type": "code",
   "execution_count": null,
   "metadata": {},
   "outputs": [],
   "source": []
  }
 ],
 "metadata": {
  "kernelspec": {
   "display_name": "Python 3",
   "language": "python",
   "name": "python3"
  },
  "language_info": {
   "codemirror_mode": {
    "name": "ipython",
    "version": 3
   },
   "file_extension": ".py",
   "mimetype": "text/x-python",
   "name": "python",
   "nbconvert_exporter": "python",
   "pygments_lexer": "ipython3",
   "version": "3.8.6"
  }
 },
 "nbformat": 4,
 "nbformat_minor": 4
}
