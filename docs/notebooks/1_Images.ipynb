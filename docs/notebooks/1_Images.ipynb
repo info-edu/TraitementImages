{
 "cells": [
  {
   "cell_type": "markdown",
   "metadata": {},
   "source": [
    "# Introduction à la  manipulation d'images\n",
    "\n",
    "\n",
    "## objectifs\n",
    "\n",
    "L'objectif de ce cours est de vous familiariser aux bases du traitement d'images. L'objectif sera d'abord de découvrir de quelle manière les images sont généralement représentées de façon numérique en programmant des outils permettant de dessiner des motifs simples sur une image. Suite à ça l'objectif sera de réinvestir ces connaissances et compétences dans des exercices de traitement du signal permettant d'aller jusqu'à résoudre des problèmes classiques en science de la vie.\n",
    "\n",
    "## Utilisation des librairies standards\n",
    "\n",
    "Pour manipuler des images et les visualiser sur un notebook, il est classique de commencer par utiliser deux librairies."
   ]
  },
  {
   "cell_type": "code",
   "execution_count": 1,
   "metadata": {},
   "outputs": [],
   "source": [
    "import numpy as np # Pour manipuler des tableaux de nombres\n",
    "import matplotlib.pyplot as plt # pour afficher des images"
   ]
  },
  {
   "cell_type": "markdown",
   "metadata": {},
   "source": [
    "Une image en niveaux de gris est une **grille de valeurs sur deux dimensions**. Chaque valeur de cette grille représente l'intensité lumineuse à une certaine abscisse et une certaine ordonnée. Commençons par définir une telle grille pleine de zéros (une iamge noire) grâce à la librairie numpy."
   ]
  },
  {
   "cell_type": "code",
   "execution_count": 2,
   "metadata": {},
   "outputs": [
    {
     "name": "stdout",
     "output_type": "stream",
     "text": [
      "type(img): <class 'numpy.ndarray'>\n",
      "img.shape: (12, 16)\n"
     ]
    }
   ],
   "source": [
    "# Creation d'une image noire de taille hauteur x largeur\n",
    "# (ou plus précisément d'un tableau de hauteur x largeur nombres tous égaux à zéros\n",
    "# c'est comme une liste à deux dimensions)\n",
    "hauteur = 12\n",
    "largeur = 16\n",
    "img = np.zeros((hauteur,largeur))#.astype(np.int8)\n",
    "\n",
    "# Affichage du type de img\n",
    "print(\"type(img): \"+str(type(img)))\n",
    "# Affichage de la taille d'une image\n",
    "print(\"img.shape: \"+str(img.shape))"
   ]
  },
  {
   "cell_type": "markdown",
   "metadata": {},
   "source": [
    "Comme on le voit, la variable *img* est de type **numpy.ndarray** ce qui correspond à un tableau à N-dimensions, avec ici *N = 2*. Ce type vient avec certains attributs telle que *shape* qui nous donne sa taille, et des méthodes telles que *transpose()* qui nous permettent de retourner les axes x et y.\n",
    "\n",
    "La fonction *print()* accepte comme argument les *ndarray*, ce qui nous permettra de voir les valeurs qu'il y a dans notre image. Si on regarde bien le résultat, on voit que cela correspond à une liste de liste comme nous les avions vu dans les cours précédents."
   ]
  },
  {
   "cell_type": "code",
   "execution_count": 3,
   "metadata": {},
   "outputs": [
    {
     "name": "stdout",
     "output_type": "stream",
     "text": [
      "[[0. 0. 0. 0. 0. 0. 0. 0. 0. 0. 0. 0. 0. 0. 0. 0.]\n",
      " [0. 0. 0. 0. 0. 0. 0. 0. 0. 0. 0. 0. 0. 0. 0. 0.]\n",
      " [0. 0. 0. 0. 0. 0. 0. 0. 0. 0. 0. 0. 0. 0. 0. 0.]\n",
      " [0. 0. 0. 0. 0. 0. 0. 0. 0. 0. 0. 0. 0. 0. 0. 0.]\n",
      " [0. 0. 0. 0. 0. 0. 0. 0. 0. 0. 0. 0. 0. 0. 0. 0.]\n",
      " [0. 0. 0. 0. 0. 0. 0. 0. 0. 0. 0. 0. 0. 0. 0. 0.]\n",
      " [0. 0. 0. 0. 0. 0. 0. 0. 0. 0. 0. 0. 0. 0. 0. 0.]\n",
      " [0. 0. 0. 0. 0. 0. 0. 0. 0. 0. 0. 0. 0. 0. 0. 0.]\n",
      " [0. 0. 0. 0. 0. 0. 0. 0. 0. 0. 0. 0. 0. 0. 0. 0.]\n",
      " [0. 0. 0. 0. 0. 0. 0. 0. 0. 0. 0. 0. 0. 0. 0. 0.]\n",
      " [0. 0. 0. 0. 0. 0. 0. 0. 0. 0. 0. 0. 0. 0. 0. 0.]\n",
      " [0. 0. 0. 0. 0. 0. 0. 0. 0. 0. 0. 0. 0. 0. 0. 0.]]\n"
     ]
    }
   ],
   "source": [
    "print(img)"
   ]
  },
  {
   "cell_type": "markdown",
   "metadata": {},
   "source": [
    "Mais il sera bien évidement utile d'afficher l'image comme une image et non comme un tableau de valeurs. Malheureusement cela n'est pas offert par la librairie numpy. Cela fait sens en même temps car elle est dédiée au calcul numérique. Pour afficher une image on utilisera une librarie dédiée à la visualisation de donnée qui s'appelle **matplotlib** (celle déjà utilisée précédemment pour dessiner des graphiques) de cette manière:"
   ]
  },
  {
   "cell_type": "code",
   "execution_count": 5,
   "metadata": {},
   "outputs": [
    {
     "data": {
      "image/png": "[encoded data removed]",
      "text/plain": [
       "<Figure size 432x288 with 1 Axes>"
      ]
     },
     "metadata": {
      "needs_background": "light"
     },
     "output_type": "display_data"
    }
   ],
   "source": [
    "# Affichage de l'image\n",
    "plt.imshow(img, cmap='gray',vmin = 0, vmax = 255)\n",
    "plt.show()"
   ]
  },
  {
   "cell_type": "markdown",
   "metadata": {},
   "source": [
    "En traitement d'images il est standard de mettre l'origine de l'image en haut à gauche, comme pour les matrices en mathématiques. Comme on le voit dans cette figure c'est le cas ici. Remarquez également que les fonctions utilisées utilisent d'autres arguments que l'image. Pour l'instant retenons simplement qu'en utilisant ces arguments nous pourrons voir notre image en niveaux de gris.\n",
    "\n",
    "Remarquez également que la taille de l'image rendue par l'attribut shape a deux éléments qui sont mis entre parenthèses. On appelle cela un tuple. C'est un type similaire aux listes. On peut accéder aux deux éléments grâce aux crochets []. Par contre la particularité du tuple est que l'on ne pourra pas modifier son contenu."
   ]
  },
  {
   "cell_type": "markdown",
   "metadata": {},
   "source": [
    "---\n",
    "### Exercice 1\n",
    "+ *L'instruction `np.zeros((hauteur,largeur))` n'est pas la plus évidente à retenir. Définir une fonction qui nous permette de créer une image (plus précisément une variable de type np.ndarray) qui vous parle. Cela pourrait être par exemple une fonction `creer_image(hauteur,largeur)` qui retourne une image*\n",
    "+ *Définir une fonction `printSize(image)` qui prend une image en argument et affiche sa taille comme cela: \"La taille de l'image est de 32 x 24 pixels\".*\n",
    "+ *Définir une fonction `montrer_image(image)` qui vous permettra d'afficher une image en une instruction.\n",
    "\n",
    "---"
   ]
  },
  {
   "cell_type": "code",
   "execution_count": null,
   "metadata": {},
   "outputs": [],
   "source": [
    "# Ex. 1\n",
    "# def creer_image\n",
    "# def printSize\n",
    "# def montrer_image\n",
    "\n",
    "# test des fonctions\n",
    "img = creer_image(20,30)"
   ]
  },
  {
   "cell_type": "markdown",
   "metadata": {},
   "source": [
    "# Représentation des images au format numérique\n",
    "\n",
    "Les images numériques sont représentées de deux façons: soit elles sont pixelisées, soit elles sont au format vectoriel. Ici nous nous intéresserons au **format pixel**. Les images pixelisées sont découpées sous forme d'une grille de pixels, et pour chaque pixel le niveau de gris ou la couleur est définie à l'aide d'un ou respectivement 3 nombres. Ces nombres sont généralement définis en 8 bits (8 zéros ou uns), ce qui donne un nombre pouvant aller de 0 à 255 compris.\n",
    "\n",
    "Pour commencer nous travaillerons avec des images en niveaux de gris. Dans ce cas, chaque pixel est défini par un nombre entier allant de 0 à 255. 0 correspondant au noir et 255 au blanc.\n",
    "\n",
    "## Accès et manipulation des pixels\n",
    "Pour accéder aux valeurs d'un pixel dans une image, c'est à dire aux valeurs dans un tableau à 2 dimensions, on utilise le même outil que pour les listes: on va utiliser des indexes. Avec une liste à une dimension *ma_liste*, on accédera au premier élément grâce aux crochets et à l'index 0 en écrivant *ma_liste[0]*. Pour accéder à un élément d'une image, il faudra spécifier à quelle ligne et quelle colonne nous voulons accéder, par exemple pour accéder au pixel en haut à gauche de l'image *img* on utilisera l'instruction *img[0,0]*. Comme pour toutes les variables, il sera possible d'accéder à cet élément mais aussi de l'affecter:"
   ]
  },
  {
   "cell_type": "code",
   "execution_count": 16,
   "metadata": {},
   "outputs": [
    {
     "name": "stdout",
     "output_type": "stream",
     "text": [
      "0.0\n"
     ]
    }
   ],
   "source": [
    "# accès\n",
    "print(img[0,0])"
   ]
  },
  {
   "cell_type": "code",
   "execution_count": 17,
   "metadata": {},
   "outputs": [
    {
     "name": "stdout",
     "output_type": "stream",
     "text": [
      "255.0\n"
     ]
    },
    {
     "data": {
      "image/png": "[encoded data removed]",
      "text/plain": [
       "<Figure size 432x288 with 1 Axes>"
      ]
     },
     "metadata": {
      "needs_background": "light"
     },
     "output_type": "display_data"
    }
   ],
   "source": [
    "# affectation\n",
    "img[0,0] = 255\n",
    "\n",
    "# affichage du résultat\n",
    "print(img[0,0])\n",
    "\n",
    "plt.imshow(img, cmap='gray',vmin = 0, vmax = 255)\n",
    "plt.show()"
   ]
  },
  {
   "cell_type": "markdown",
   "metadata": {},
   "source": [
    "Et bien sur il est également possible de faire des opérations sur chaque valeur de pixel mais aussi sur toutes les valeurs de l'image d'un coup."
   ]
  },
  {
   "cell_type": "code",
   "execution_count": 4,
   "metadata": {},
   "outputs": [],
   "source": [
    "# diviser par deux toutes les intensités de l'image\n",
    "img = 0.5 * img"
   ]
  },
  {
   "cell_type": "markdown",
   "metadata": {},
   "source": [
    "---\n",
    "### Exercice 2\n",
    "+ *Modifier la cellule de code précédente et déterminer comment marche le système de coordonnées pour accéder à un pixel. Est-ce img[x,y] ou img[y,x] ?*\n",
    "+ *Modifier la fonction que vous avez défini pour créer une image pour qu'elle prenne un argument de plus qui est la couleur par défaut de l'image et qu'elle crée une image de la couleur choisie. Pour cela parcourir tous les pixels en utilisant une boucle for dans une boucle for. Si notre fonction était `creer_image(hauteur,largeur)`, alors elle deviendrait `creer_image(hauteur,largeur,niveau_gris)`*.\n",
    "+ *Exécuter l'instruction `np.ones?`. Cela vous permet de savoir comment fonctionne la fonction `np.ones()`. Utiliser cette fonction pour écrire une autre version de la fonction `creer_image(hauteur,largeur,niveau_gris)` cette fois-ci sans boucle imbriquée.*\n",
    "\n",
    "---"
   ]
  },
  {
   "cell_type": "code",
   "execution_count": 2,
   "metadata": {},
   "outputs": [],
   "source": [
    "# Ex. 2\n",
    "# def creer_image..."
   ]
  },
  {
   "cell_type": "markdown",
   "metadata": {},
   "source": [
    "## Accès au dernier, avant dernier... élément sur un axe\n",
    "\n",
    "Comme nous savons qu'il y a *img.shape[1]* éléments dans une colonne, pour accéder au dernier élément de la première ligne, on pourrait écrire:"
   ]
  },
  {
   "cell_type": "code",
   "execution_count": 18,
   "metadata": {},
   "outputs": [
    {
     "name": "stdout",
     "output_type": "stream",
     "text": [
      "0.0\n"
     ]
    }
   ],
   "source": [
    "print(img[0,img.shape[1]-1])"
   ]
  },
  {
   "cell_type": "markdown",
   "metadata": {},
   "source": [
    "Mais cette instruction est longue et python nous offre avec sa syntaxe quelque chose de plus facile. Pour accéder au dernier élément de ma liste, je écrire l'index -1 (`img[0,-1]`), pour l'avant dernier -2 ..."
   ]
  },
  {
   "cell_type": "markdown",
   "metadata": {},
   "source": [
    "---\n",
    "### Exercice 3\n",
    "\n",
    "+ *Créer une cellule de code après cette cellule.*\n",
    "+ *Changer la couleur d'un pixel en bas à droite de l'image et visualisez le résultat.*\n",
    "+ *Est-il possible d'utiliser la même opération sur des listes qui ne sont pas des np.ndarray ?*\n",
    "\n",
    "---\n"
   ]
  },
  {
   "cell_type": "markdown",
   "metadata": {},
   "source": [
    "## Accès et manipulation d'une partie de l'image\n",
    "\n",
    "Alors qu'il est possible de manipuler une image pixel par pixel, il est parfois souhaitable d'accéder à une partie de l'image englobant plusieurs pixelsce qu'on appelle une tranche. Voici un exemple de cette outil:"
   ]
  },
  {
   "cell_type": "code",
   "execution_count": 19,
   "metadata": {},
   "outputs": [
    {
     "data": {
      "image/png": "[encoded data removed]",
      "text/plain": [
       "<Figure size 432x288 with 1 Axes>"
      ]
     },
     "metadata": {
      "needs_background": "light"
     },
     "output_type": "display_data"
    }
   ],
   "source": [
    "# On peut définir une tranche d'indices qui nous intéressent...\n",
    "# En donnant le l'indice de début et de fin séparés d'un double point:\n",
    "img[5,2:-3] = 255\n",
    "img[6:8,2:-3] = 128\n",
    "# Attention l'élément avec l'indice de fin n'est pas inclut dans la tranche !\n",
    "\n",
    "# S'il n'y a pas d'indice à gauche du :, la tranche commencera à l'indice 0\n",
    "# S'il n'y a pas d'indice à droite du :, la tranche finira au dernier indice \n",
    "img[:-1,15] = 255\n",
    "img[:,14] = 128\n",
    "\n",
    "plt.imshow(img, cmap='gray',vmin = 0, vmax = 255)\n",
    "plt.show()"
   ]
  },
  {
   "cell_type": "markdown",
   "metadata": {},
   "source": [
    "---\n",
    "### Exercice 4\n",
    "\n",
    "+ *Faire une image avec un dégradé de niveau de gris de gauche à droite.*\n",
    "+ *Définir une fonction qui permet de faire un retournement horizontal d'une image.*\n",
    "\n",
    "---"
   ]
  },
  {
   "cell_type": "code",
   "execution_count": null,
   "metadata": {},
   "outputs": [],
   "source": [
    "# Ex. 4\n",
    "# img_degrade = ...\n",
    "# show\n",
    "# flip\n",
    "# show"
   ]
  },
  {
   "cell_type": "markdown",
   "metadata": {},
   "source": [
    "---\n",
    "### Exercice 5\n",
    "\n",
    "+ *Sans utiliser le `:`, définir une fonction `draw_line_h(img,y,x1,x2,gray_level)` qui dessine une ligne horizontal sur la ligne y de la colonne x1 à la colonne x2 dans l'image img avec l'intensité gray_level. Supposez d'abord que x2 > x1, puis faites en sorte que cela marche même si x2 < x1.*\n",
    "+ *Définir une fonction `isInImage(img,x,y)` qui retourne si un pixel est dans l'image img ou non.*\n",
    "+ *Améliorer la fonction `draw_line_h(img,y,x1,x2,gray_level)` pour qu'elle ne bug pas même si les coordonnées sont en dehors de l'image.*\n",
    "+ *Définir une fonction qui dessine un rectangle, prenant pour argument une iamge et deux points P1(x1,y1) et P2(x2,y2). On pourra définir la fonction intermédiaire `draw_line_v`.*\n",
    "\n",
    "---"
   ]
  },
  {
   "cell_type": "code",
   "execution_count": null,
   "metadata": {},
   "outputs": [],
   "source": [
    "# Ex. 5\n",
    "# def draw_line_h...\n",
    "# test drawline, show\n",
    "# def IsInImage\n",
    "# ..."
   ]
  },
  {
   "cell_type": "markdown",
   "metadata": {},
   "source": [
    "---\n",
    "### Exercice 6\n",
    "\n",
    "*Soit deux points P1(x1,y1) et P2(x2,y2) dans une image, tel que x2 > x1, y2 > y1 et que x2 - x1 > y2 - y1. La fonction draw_line(img,x1,y1,x2,y2,gray_level) définie ci-après permet de dessiner une ligne du point P1 au point P2.*\n",
    "\n",
    "`def draw_line_simple(img,x1,y1,x2,y2,gray_level):\n",
    "    for i in range(x1,x2+1):\n",
    "        j = round(y1 + (y2-y1)*(i-x1)/(x2-x1))\n",
    "        img[j,i] = gray_level`\n",
    "        \n",
    "*En effet, pour i dans [x,x2], (i-x) est dans [0,x2-x1], (i-x1)/(x2-x1) est dans [0,1], (y2-y1) * (i-x1)/(x2-x1) est dans [0, y2-y1] et donc j est dans [y1,y2]. Ainsi pour chaque x entre x1 et x2 inclus, on a dessiné un pixel qui ira de y1 à y2 soit la ligne désirée.*\n",
    "\n",
    "+ *Sur une image de 320x240 pixels, tester cette fonction pour deux points P1(50,50) et P2(200,70). Tester la pour P1(50,50) et P2(70,200). Que se passe-t-il ? Pourquoi la fonction ne marche pas ? Modifiez la fonction pour qu'elle marche également pour ces points.*\n",
    "+ Tester la fonction pour P1(200,150) et P2(50,100). Quel est le résultat ? Cela ne marche probablement pas. Modifiez la fonction pour qu'elle marche dans ce cas.Indice: on pourra définir une fonction `permut()` que l'on prendra le soin de définir.\n",
    "+ *Modifier la fonction afin qu'elle marche même si P1 et P2 sont en dehors de l'image.*\n",
    "\n",
    "---"
   ]
  },
  {
   "cell_type": "code",
   "execution_count": null,
   "metadata": {},
   "outputs": [],
   "source": [
    "# Ex. 6\n",
    "def draw_line_simple(img,x1,y1,x2,y2,gray_level):\n",
    "    for i in range(x1,x2+1):\n",
    "        j = round(y1 + (y2-y1)*(i-x1)/(x2-x1))\n",
    "        img[j,i] = gray_level\n",
    "\n",
    "\n"
   ]
  },
  {
   "cell_type": "markdown",
   "metadata": {},
   "source": [
    "---\n",
    "### Exercice 7\n",
    "\n",
    "*Utiliser les fonctions définies précédemment pour faire de l'art abstrait. Si vous n'avez pas d'inspiration vous pouvez essayer de recréer l'image suivante:*\n",
    "\n",
    "![art_abstrait](images/ex_art_abstrait.png)\n",
    "\n"
   ]
  },
  {
   "cell_type": "code",
   "execution_count": null,
   "metadata": {},
   "outputs": [],
   "source": []
  }
 ],
 "metadata": {
  "kernelspec": {
   "display_name": "Python 3",
   "language": "python",
   "name": "python3"
  },
  "language_info": {
   "codemirror_mode": {
    "name": "ipython",
    "version": 3
   },
   "file_extension": ".py",
   "mimetype": "text/x-python",
   "name": "python",
   "nbconvert_exporter": "python",
   "pygments_lexer": "ipython3",
   "version": "3.8.6"
  }
 },
 "nbformat": 4,
 "nbformat_minor": 4
}
