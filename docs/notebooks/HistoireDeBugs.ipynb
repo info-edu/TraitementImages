{
 "cells": [
  {
   "cell_type": "markdown",
   "metadata": {},
   "source": [
    "# Objectif et durée\n",
    "\n",
    "L'objectif de cette séquence est de corriger des erreurs ou mauvaises pratqiue communément vues en classe. Il est possible de réaliser cette séquence en une période."
   ]
  },
  {
   "cell_type": "markdown",
   "metadata": {},
   "source": [
    "# Introduction\n",
    "\n",
    "Je vous présente Bob, un jeune élève qui apprend l'informatique. Il manquait probablement un peu de sommeil car il a réussi à écrire une série un notebook truffé de bugs. Vous allez aider Bob à distance en corrigeant son code et en lui expliquant quel était son problème en dessous de la cellule bogguée. Attention, c'était une dure journée pour Bob et il pourra y avoir plusieurs bugs par cellule. Nous partirons de la cellule de code suivante qui n'est pas bogguée."
   ]
  },
  {
   "cell_type": "code",
   "execution_count": 2,
   "metadata": {},
   "outputs": [],
   "source": [
    "import numpy as np # Pour manipuler des tableaux de nombres\n",
    "import matplotlib.pyplot as plt # pour afficher des images\n",
    "\n",
    "def creer_image(hauteur,largeur):\n",
    "    return np.zeros((hauteur,largeur))"
   ]
  },
  {
   "cell_type": "markdown",
   "metadata": {},
   "source": [
    "# Création d'image\n",
    "\n",
    "Bob veut créer une image et la modifier pour que le premier pixel soit blanc, voici ce qu'il a écrit:"
   ]
  },
  {
   "cell_type": "code",
   "execution_count": 2,
   "metadata": {},
   "outputs": [
    {
     "ename": "NameError",
     "evalue": "name 'img' is not defined",
     "output_type": "error",
     "traceback": [
      "\u001b[0;31m---------------------------------------------------------------------------\u001b[0m",
      "\u001b[0;31mNameError\u001b[0m                                 Traceback (most recent call last)",
      "\u001b[0;32m<ipython-input-2-e346498b1b2b>\u001b[0m in \u001b[0;36m<module>\u001b[0;34m\u001b[0m\n\u001b[1;32m      1\u001b[0m \u001b[0mcreer_image\u001b[0m\u001b[0;34m(\u001b[0m\u001b[0;36m8\u001b[0m\u001b[0;34m,\u001b[0m\u001b[0;36m12\u001b[0m\u001b[0;34m)\u001b[0m\u001b[0;34m\u001b[0m\u001b[0;34m\u001b[0m\u001b[0m\n\u001b[0;32m----> 2\u001b[0;31m \u001b[0mimg\u001b[0m\u001b[0;34m[\u001b[0m\u001b[0;36m0\u001b[0m\u001b[0;34m,\u001b[0m\u001b[0;36m0\u001b[0m\u001b[0;34m]\u001b[0m \u001b[0;34m=\u001b[0m \u001b[0;36m255\u001b[0m\u001b[0;34m\u001b[0m\u001b[0;34m\u001b[0m\u001b[0m\n\u001b[0m",
      "\u001b[0;31mNameError\u001b[0m: name 'img' is not defined"
     ]
    }
   ],
   "source": [
    "creer_image(8,12)\n",
    "img[0,0] = 255"
   ]
  },
  {
   "cell_type": "markdown",
   "metadata": {},
   "source": [
    "# Définition de fonctions utiles\n",
    "Il souhaite maintenant définir deux fonctions. Une qui affiche la taille d'une image donnée en argument, et l'autre qui affiche l'image donnée en argument, avec ce code:"
   ]
  },
  {
   "cell_type": "code",
   "execution_count": 3,
   "metadata": {},
   "outputs": [
    {
     "ename": "SyntaxError",
     "evalue": "invalid syntax (<ipython-input-3-f63f1ae0c3d0>, line 2)",
     "output_type": "error",
     "traceback": [
      "\u001b[0;36m  File \u001b[0;32m\"<ipython-input-3-f63f1ae0c3d0>\"\u001b[0;36m, line \u001b[0;32m2\u001b[0m\n\u001b[0;31m    print(\"Largeur x hauteur = \"image.shape[1]\" x \"image.shape[0])\u001b[0m\n\u001b[0m                                ^\u001b[0m\n\u001b[0;31mSyntaxError\u001b[0m\u001b[0;31m:\u001b[0m invalid syntax\n"
     ]
    }
   ],
   "source": [
    "def printSize(image):\n",
    "    print(\"Largeur x hauteur = \"image.shape[1]\" x \"image.shape[0])\n",
    "    \n",
    "def montrer_image(image):\n",
    "    plt.imshow(img, cmap='gray',vmin = 0, vmax = 255)\n",
    "return plt.show()"
   ]
  },
  {
   "cell_type": "markdown",
   "metadata": {},
   "source": [
    "# Modification d'une ligne de l'image\n",
    "Bob veut maintenant que la première ligne d'une image de 10x10 pixels soit blanche et le reste noir. Il écrit un code qui ne fait pas d'erreur mais qui ne fait pas ce qu'il veut. Voici son code:"
   ]
  },
  {
   "cell_type": "code",
   "execution_count": 8,
   "metadata": {},
   "outputs": [],
   "source": [
    "img = np.zeros((10, 10))\n",
    "img[0,0:-1] = 255"
   ]
  },
  {
   "cell_type": "markdown",
   "metadata": {},
   "source": [
    "# Compter les pixels blancs\n",
    "Bob écrit une fonction qui permet de compter les pixels ayant une valeur de 255 dans une image. Il écrit cette fonction qui marche mais son enseignant lui dit que ça n'est pas bon..."
   ]
  },
  {
   "cell_type": "code",
   "execution_count": 10,
   "metadata": {},
   "outputs": [
    {
     "name": "stdout",
     "output_type": "stream",
     "text": [
      "9\n"
     ]
    }
   ],
   "source": [
    "def comptePixel255(image):\n",
    "    var1 = 0\n",
    "    for y in range(image.shape[0]):\n",
    "        for x in range(image.shape[1]):\n",
    "            niveau_gris = image[y,x]\n",
    "            if niveau_gris == 255:\n",
    "                var1 += 1\n",
    "    return var1\n",
    "\n",
    "print(comptePixel255(img))"
   ]
  },
  {
   "cell_type": "markdown",
   "metadata": {},
   "source": [
    "# Retournement horizontal\n",
    "\n",
    "Enfin Bob veut écrire une fonction qui fait un retournement horizontal d'une image donnée en argument de la fonction. Encore une fois, Bob ne voit pas de bug mais son enseignant n'est tout de même pas satisfait. Bob n'oublie pas que c'est pour son bien que son enseignant pinaille parfois :)"
   ]
  },
  {
   "cell_type": "code",
   "execution_count": 7,
   "metadata": {},
   "outputs": [
    {
     "data": {
      "image/png": "[encoded data removed]",
      "text/plain": [
       "<Figure size 432x288 with 1 Axes>"
      ]
     },
     "metadata": {
      "needs_background": "light"
     },
     "output_type": "display_data"
    }
   ],
   "source": [
    "def flip(img):\n",
    "    img_flip = np.zeros((10,10))\n",
    "    for y in range(10):\n",
    "        for x in range(10):\n",
    "            img_flip[y,x] = img[y,-x-1]\n",
    "    return img_flip\n",
    "\n",
    "# création de l'image à retourner\n",
    "img = np.zeros((10, 10))\n",
    "img[2,2] = 255\n",
    "img[2,7] = 255\n",
    "img[6,2] = 255\n",
    "img[6,6:8] = 255\n",
    "img[7,3:6] = 255\n",
    "plt.imshow(img, cmap='gray',vmin = 0, vmax = 255)\n",
    "plt.show()\n",
    "\n",
    "# flip\n",
    "img_flip = flip(img)"
   ]
  },
  {
   "cell_type": "code",
   "execution_count": null,
   "metadata": {},
   "outputs": [],
   "source": []
  }
 ],
 "metadata": {
  "kernelspec": {
   "display_name": "Python 3",
   "language": "python",
   "name": "python3"
  },
  "language_info": {
   "codemirror_mode": {
    "name": "ipython",
    "version": 3
   },
   "file_extension": ".py",
   "mimetype": "text/x-python",
   "name": "python",
   "nbconvert_exporter": "python",
   "pygments_lexer": "ipython3",
   "version": "3.8.6"
  }
 },
 "nbformat": 4,
 "nbformat_minor": 4
}
